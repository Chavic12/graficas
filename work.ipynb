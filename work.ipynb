{
 "cells": [
  {
   "cell_type": "code",
   "execution_count": 7,
   "metadata": {},
   "outputs": [
    {
     "name": "stdout",
     "output_type": "stream",
     "text": [
      "Collecting plotly\n",
      "  Downloading plotly-5.18.0-py3-none-any.whl (15.6 MB)\n",
      "\u001b[K     |████████████████████████████████| 15.6 MB 1.6 MB/s eta 0:00:01\n",
      "\u001b[?25hRequirement already satisfied: packaging in /Users/xavierchavez/.pyenv/versions/3.9.5/lib/python3.9/site-packages (from plotly) (23.1)\n",
      "Requirement already satisfied: tenacity>=6.2.0 in /Users/xavierchavez/.pyenv/versions/3.9.5/lib/python3.9/site-packages (from plotly) (8.2.3)\n",
      "Installing collected packages: plotly\n",
      "Successfully installed plotly-5.18.0\n",
      "\u001b[33mWARNING: You are using pip version 21.1.1; however, version 23.3.1 is available.\n",
      "You should consider upgrading via the '/Users/xavierchavez/.pyenv/versions/3.9.5/bin/python -m pip install --upgrade pip' command.\u001b[0m\n",
      "Note: you may need to restart the kernel to use updated packages.\n"
     ]
    }
   ],
   "source": [
    "%pip install plotly"
   ]
  },
  {
   "cell_type": "code",
   "execution_count": 1,
   "metadata": {},
   "outputs": [],
   "source": [
    "import pandas as pd"
   ]
  },
  {
   "cell_type": "code",
   "execution_count": 8,
   "metadata": {},
   "outputs": [],
   "source": [
    "df = pd.read_csv('roa.csv')"
   ]
  },
  {
   "cell_type": "code",
   "execution_count": null,
   "metadata": {},
   "outputs": [],
   "source": []
  },
  {
   "cell_type": "code",
   "execution_count": 9,
   "metadata": {},
   "outputs": [
    {
     "ename": "ValueError",
     "evalue": "Mime type rendering requires nbformat>=4.2.0 but it is not installed",
     "output_type": "error",
     "traceback": [
      "\u001b[0;31m---------------------------------------------------------------------------\u001b[0m",
      "\u001b[0;31mValueError\u001b[0m                                Traceback (most recent call last)",
      "\u001b[1;32m/Users/xavierchavez/Desktop/UTPL/Interoperabilida/proyecto/work.ipynb Celda 5\u001b[0m line \u001b[0;36m6\n\u001b[1;32m     <a href='vscode-notebook-cell:/Users/xavierchavez/Desktop/UTPL/Interoperabilida/proyecto/work.ipynb#W2sZmlsZQ%3D%3D?line=25'>26</a>\u001b[0m fig\u001b[39m.\u001b[39mupdate_layout(title\u001b[39m=\u001b[39m\u001b[39m'\u001b[39m\u001b[39mActivo Total e Ingresos Netos por Año\u001b[39m\u001b[39m'\u001b[39m,\n\u001b[1;32m     <a href='vscode-notebook-cell:/Users/xavierchavez/Desktop/UTPL/Interoperabilida/proyecto/work.ipynb#W2sZmlsZQ%3D%3D?line=26'>27</a>\u001b[0m                   xaxis_title\u001b[39m=\u001b[39m\u001b[39m'\u001b[39m\u001b[39mAño\u001b[39m\u001b[39m'\u001b[39m,\n\u001b[1;32m     <a href='vscode-notebook-cell:/Users/xavierchavez/Desktop/UTPL/Interoperabilida/proyecto/work.ipynb#W2sZmlsZQ%3D%3D?line=27'>28</a>\u001b[0m                   yaxis_title\u001b[39m=\u001b[39m\u001b[39m'\u001b[39m\u001b[39mMonto\u001b[39m\u001b[39m'\u001b[39m,\n\u001b[0;32m   (...)\u001b[0m\n\u001b[1;32m     <a href='vscode-notebook-cell:/Users/xavierchavez/Desktop/UTPL/Interoperabilida/proyecto/work.ipynb#W2sZmlsZQ%3D%3D?line=60'>61</a>\u001b[0m                       )\n\u001b[1;32m     <a href='vscode-notebook-cell:/Users/xavierchavez/Desktop/UTPL/Interoperabilida/proyecto/work.ipynb#W2sZmlsZQ%3D%3D?line=61'>62</a>\u001b[0m                   ])\n\u001b[1;32m     <a href='vscode-notebook-cell:/Users/xavierchavez/Desktop/UTPL/Interoperabilida/proyecto/work.ipynb#W2sZmlsZQ%3D%3D?line=63'>64</a>\u001b[0m \u001b[39m# Mostrar gráfico interactivo\u001b[39;00m\n\u001b[0;32m---> <a href='vscode-notebook-cell:/Users/xavierchavez/Desktop/UTPL/Interoperabilida/proyecto/work.ipynb#W2sZmlsZQ%3D%3D?line=64'>65</a>\u001b[0m fig\u001b[39m.\u001b[39;49mshow()\n",
      "File \u001b[0;32m~/.pyenv/versions/3.9.5/lib/python3.9/site-packages/plotly/basedatatypes.py:3410\u001b[0m, in \u001b[0;36mBaseFigure.show\u001b[0;34m(self, *args, **kwargs)\u001b[0m\n\u001b[1;32m   3377\u001b[0m \u001b[39m\u001b[39m\u001b[39m\"\"\"\u001b[39;00m\n\u001b[1;32m   3378\u001b[0m \u001b[39mShow a figure using either the default renderer(s) or the renderer(s)\u001b[39;00m\n\u001b[1;32m   3379\u001b[0m \u001b[39mspecified by the renderer argument\u001b[39;00m\n\u001b[0;32m   (...)\u001b[0m\n\u001b[1;32m   3406\u001b[0m \u001b[39mNone\u001b[39;00m\n\u001b[1;32m   3407\u001b[0m \u001b[39m\"\"\"\u001b[39;00m\n\u001b[1;32m   3408\u001b[0m \u001b[39mimport\u001b[39;00m \u001b[39mplotly\u001b[39;00m\u001b[39m.\u001b[39;00m\u001b[39mio\u001b[39;00m \u001b[39mas\u001b[39;00m \u001b[39mpio\u001b[39;00m\n\u001b[0;32m-> 3410\u001b[0m \u001b[39mreturn\u001b[39;00m pio\u001b[39m.\u001b[39;49mshow(\u001b[39mself\u001b[39;49m, \u001b[39m*\u001b[39;49margs, \u001b[39m*\u001b[39;49m\u001b[39m*\u001b[39;49mkwargs)\n",
      "File \u001b[0;32m~/.pyenv/versions/3.9.5/lib/python3.9/site-packages/plotly/io/_renderers.py:394\u001b[0m, in \u001b[0;36mshow\u001b[0;34m(fig, renderer, validate, **kwargs)\u001b[0m\n\u001b[1;32m    389\u001b[0m         \u001b[39mraise\u001b[39;00m \u001b[39mValueError\u001b[39;00m(\n\u001b[1;32m    390\u001b[0m             \u001b[39m\"\u001b[39m\u001b[39mMime type rendering requires ipython but it is not installed\u001b[39m\u001b[39m\"\u001b[39m\n\u001b[1;32m    391\u001b[0m         )\n\u001b[1;32m    393\u001b[0m     \u001b[39mif\u001b[39;00m \u001b[39mnot\u001b[39;00m nbformat \u001b[39mor\u001b[39;00m Version(nbformat\u001b[39m.\u001b[39m__version__) \u001b[39m<\u001b[39m Version(\u001b[39m\"\u001b[39m\u001b[39m4.2.0\u001b[39m\u001b[39m\"\u001b[39m):\n\u001b[0;32m--> 394\u001b[0m         \u001b[39mraise\u001b[39;00m \u001b[39mValueError\u001b[39;00m(\n\u001b[1;32m    395\u001b[0m             \u001b[39m\"\u001b[39m\u001b[39mMime type rendering requires nbformat>=4.2.0 but it is not installed\u001b[39m\u001b[39m\"\u001b[39m\n\u001b[1;32m    396\u001b[0m         )\n\u001b[1;32m    398\u001b[0m     ipython_display\u001b[39m.\u001b[39mdisplay(bundle, raw\u001b[39m=\u001b[39m\u001b[39mTrue\u001b[39;00m)\n\u001b[1;32m    400\u001b[0m \u001b[39m# external renderers\u001b[39;00m\n",
      "\u001b[0;31mValueError\u001b[0m: Mime type rendering requires nbformat>=4.2.0 but it is not installed"
     ]
    }
   ],
   "source": [
    "import plotly.express as px\n",
    "import pandas as pd\n",
    "\n",
    "# Tu conjunto de datos\n",
    "data = {\n",
    "    'Empresa': ['ABC Corp']*3 + ['XYZ Ltd']*3 + ['Ejemplo Inc']*3 + ['OtraCo']*3,\n",
    "    'Año': [2020, 2021, 2022]*4,\n",
    "    'Activo_Total': [5000000, 5500000, 6000000, 8000000, 8500000, 9000000, 3000000, 3200000, 3400000, 7000000, 7200000, 7400000],\n",
    "    'Ingresos_Netos': [2000000, 2200000, 2400000, 3500000, 3800000, 4100000, 1500000, 1600000, 1700000, 2800000, 3000000, 3200000]\n",
    "}\n",
    "\n",
    "df = pd.DataFrame(data)\n",
    "\n",
    "# Crear menús desplegables interactivos\n",
    "fig = px.line()\n",
    "\n",
    "# Añadir líneas al gráfico\n",
    "for empresa in df['Empresa'].unique():\n",
    "    for var in ['Activo_Total', 'Ingresos_Netos']:\n",
    "        fig.add_scatter(x=df[df['Empresa'] == empresa]['Año'],\n",
    "                        y=df[df['Empresa'] == empresa][var],\n",
    "                        mode='lines',\n",
    "                        name=f'{empresa} - {var}')\n",
    "\n",
    "# Configurar diseño del gráfico\n",
    "fig.update_layout(title='Activo Total e Ingresos Netos por Año',\n",
    "                  xaxis_title='Año',\n",
    "                  yaxis_title='Monto',\n",
    "                  updatemenus=[\n",
    "                      dict(\n",
    "                          type='dropdown',\n",
    "                          x=-0.1,\n",
    "                          y=1.15,\n",
    "                          buttons=[\n",
    "                              dict(label='Todas las Empresas',\n",
    "                                   method='update',\n",
    "                                   args=[{'visible': [True] * len(fig.data)}]),\n",
    "                              *[\n",
    "                                  dict(label=empresa,\n",
    "                                       method='update',\n",
    "                                       args=[{'visible': [True if col.startswith(empresa) else False for col in fig.data[0].name.split(' - ')]}])\n",
    "                                  for empresa in df['Empresa'].unique()\n",
    "                              ]\n",
    "                          ],\n",
    "                      ),\n",
    "                      dict(\n",
    "                          type='dropdown',\n",
    "                          x=-0.1,\n",
    "                          y=1.05,\n",
    "                          buttons=[\n",
    "                              dict(label='Todos los Años',\n",
    "                                   method='update',\n",
    "                                   args=[{'visible': [True] * len(fig.data)}]),\n",
    "                              *[\n",
    "                                  dict(label=str(ano),\n",
    "                                       method='update',\n",
    "                                       args=[{'visible': [True if str(ano) in col else False for col in fig.data[0].name.split(' - ')]}])\n",
    "                                  for ano in df['Año'].unique()\n",
    "                              ]\n",
    "                          ],\n",
    "                      )\n",
    "                  ])\n",
    "\n",
    "# Mostrar gráfico interactivo\n",
    "fig.show()\n"
   ]
  },
  {
   "cell_type": "code",
   "execution_count": null,
   "metadata": {},
   "outputs": [],
   "source": []
  }
 ],
 "metadata": {
  "kernelspec": {
   "display_name": "Python 3",
   "language": "python",
   "name": "python3"
  },
  "language_info": {
   "codemirror_mode": {
    "name": "ipython",
    "version": 3
   },
   "file_extension": ".py",
   "mimetype": "text/x-python",
   "name": "python",
   "nbconvert_exporter": "python",
   "pygments_lexer": "ipython3",
   "version": "3.9.5"
  }
 },
 "nbformat": 4,
 "nbformat_minor": 2
}
